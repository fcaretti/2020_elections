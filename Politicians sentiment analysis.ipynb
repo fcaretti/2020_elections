{
 "cells": [
  {
   "cell_type": "markdown",
   "metadata": {},
   "source": [
    "# Prediction of supporting Biden or Trump in the 2020 American election\n",
    "Our goal is to understand which words are the most important for both voting groups. We will train a Naive Bayes classifier to classify the two groups and then evaluate the performance of the classifier on a validation set.\n",
    "Then, we will understand which words have the highest (or lowest) posteriors, in order to understand which topics are the most relevant between the two voting basins."
   ]
  },
  {
   "cell_type": "code",
   "execution_count": 1,
   "metadata": {},
   "outputs": [
    {
     "name": "stderr",
     "output_type": "stream",
     "text": [
      "[nltk_data] Downloading package stopwords to\n",
      "[nltk_data]     /home/federico/nltk_data...\n",
      "[nltk_data]   Package stopwords is already up-to-date!\n"
     ]
    }
   ],
   "source": [
    "import nltk\n",
    "import pandas as pd\n",
    "import numpy as np\n",
    "import preprocessor as pre\n",
    "import matplotlib.pyplot as plt\n",
    "import random\n",
    "random.seed(10) #it will be useful to have the same dictionary every time, in order to write it only once\n",
    "import re                                  \n",
    "import string                              \n",
    "nltk.download('stopwords')\n",
    "from nltk.corpus import stopwords          \n",
    "from nltk.stem import PorterStemmer        \n",
    "from nltk.tokenize import TweetTokenizer \n",
    "import pickle\n",
    "from os import getcwd\n",
    "import json\n",
    "import elections_utils"
   ]
  },
  {
   "cell_type": "code",
   "execution_count": 2,
   "metadata": {},
   "outputs": [],
   "source": [
    "trump_df = pd.read_csv(r\"./hashtag_donaldtrump.csv\", lineterminator='\\n')"
   ]
  },
  {
   "cell_type": "code",
   "execution_count": 3,
   "metadata": {},
   "outputs": [],
   "source": [
    "biden_df = pd.read_csv(r\"./hashtag_joebiden.csv\", lineterminator='\\n')"
   ]
  },
  {
   "cell_type": "markdown",
   "metadata": {},
   "source": [
    "### Preprocessing of data"
   ]
  },
  {
   "cell_type": "code",
   "execution_count": 4,
   "metadata": {},
   "outputs": [
    {
     "name": "stdout",
     "output_type": "stream",
     "text": [
      "(970919, 21)\n",
      "(776886, 21)\n"
     ]
    }
   ],
   "source": [
    "print(trump_df.shape)\n",
    "print(biden_df.shape)\n",
    "#the two datasets are not perfectly balanced, but probably sufficiently enough for NB to work"
   ]
  },
  {
   "cell_type": "code",
   "execution_count": 5,
   "metadata": {},
   "outputs": [
    {
     "name": "stdout",
     "output_type": "stream",
     "text": [
      "<class 'pandas.core.frame.DataFrame'>\n",
      "RangeIndex: 970919 entries, 0 to 970918\n",
      "Data columns (total 21 columns):\n",
      " #   Column                Non-Null Count   Dtype  \n",
      "---  ------                --------------   -----  \n",
      " 0   created_at            970919 non-null  object \n",
      " 1   tweet_id              970919 non-null  float64\n",
      " 2   tweet                 970919 non-null  object \n",
      " 3   likes                 970919 non-null  float64\n",
      " 4   retweet_count         970919 non-null  float64\n",
      " 5   source                970043 non-null  object \n",
      " 6   user_id               970919 non-null  float64\n",
      " 7   user_name             970903 non-null  object \n",
      " 8   user_screen_name      970919 non-null  object \n",
      " 9   user_description      869653 non-null  object \n",
      " 10  user_join_date        970919 non-null  object \n",
      " 11  user_followers_count  970919 non-null  float64\n",
      " 12  user_location         675966 non-null  object \n",
      " 13  lat                   445719 non-null  float64\n",
      " 14  long                  445719 non-null  float64\n",
      " 15  city                  227187 non-null  object \n",
      " 16  country               442748 non-null  object \n",
      " 17  continent             442765 non-null  object \n",
      " 18  state                 320620 non-null  object \n",
      " 19  state_code            300425 non-null  object \n",
      " 20  collected_at          970919 non-null  object \n",
      "dtypes: float64(7), object(14)\n",
      "memory usage: 155.6+ MB\n",
      "None\n",
      "<class 'pandas.core.frame.DataFrame'>\n",
      "RangeIndex: 776886 entries, 0 to 776885\n",
      "Data columns (total 21 columns):\n",
      " #   Column                Non-Null Count   Dtype  \n",
      "---  ------                --------------   -----  \n",
      " 0   created_at            776886 non-null  object \n",
      " 1   tweet_id              776886 non-null  float64\n",
      " 2   tweet                 776886 non-null  object \n",
      " 3   likes                 776886 non-null  float64\n",
      " 4   retweet_count         776886 non-null  float64\n",
      " 5   source                776173 non-null  object \n",
      " 6   user_id               776886 non-null  float64\n",
      " 7   user_name             776868 non-null  object \n",
      " 8   user_screen_name      776886 non-null  object \n",
      " 9   user_description      694880 non-null  object \n",
      " 10  user_join_date        776886 non-null  object \n",
      " 11  user_followers_count  776886 non-null  float64\n",
      " 12  user_location         543095 non-null  object \n",
      " 13  lat                   355293 non-null  float64\n",
      " 14  long                  355293 non-null  float64\n",
      " 15  city                  186872 non-null  object \n",
      " 16  country               353779 non-null  object \n",
      " 17  continent             353797 non-null  object \n",
      " 18  state                 260195 non-null  object \n",
      " 19  state_code            244609 non-null  object \n",
      " 20  collected_at          776886 non-null  object \n",
      "dtypes: float64(7), object(14)\n",
      "memory usage: 124.5+ MB\n",
      "None\n"
     ]
    }
   ],
   "source": [
    "print(trump_df.info())\n",
    "print(biden_df.info())"
   ]
  },
  {
   "cell_type": "markdown",
   "metadata": {},
   "source": [
    "For this small project, we will only be interested in the tweets themselves, although many other interesting pieces of information may be retrieved from the dataset, such as the approval rate of the candidates inside vs outside the US or the amount of tweets from specific states"
   ]
  },
  {
   "cell_type": "code",
   "execution_count": 6,
   "metadata": {},
   "outputs": [],
   "source": [
    "#we add a column for each candidate\n",
    "#this is necessary to do supervised learning, since we will later remove the names of the candidates from the tweets\n",
    "trump_df[\"Candidate\"] = 'trump'\n",
    "biden_df[\"Candidate\"] = 'biden'"
   ]
  },
  {
   "cell_type": "code",
   "execution_count": 7,
   "metadata": {},
   "outputs": [
    {
     "data": {
      "text/html": [
       "<div>\n",
       "<style scoped>\n",
       "    .dataframe tbody tr th:only-of-type {\n",
       "        vertical-align: middle;\n",
       "    }\n",
       "\n",
       "    .dataframe tbody tr th {\n",
       "        vertical-align: top;\n",
       "    }\n",
       "\n",
       "    .dataframe thead th {\n",
       "        text-align: right;\n",
       "    }\n",
       "</style>\n",
       "<table border=\"1\" class=\"dataframe\">\n",
       "  <thead>\n",
       "    <tr style=\"text-align: right;\">\n",
       "      <th></th>\n",
       "      <th>created_at</th>\n",
       "      <th>tweet_id</th>\n",
       "      <th>tweet</th>\n",
       "      <th>likes</th>\n",
       "      <th>retweet_count</th>\n",
       "      <th>source</th>\n",
       "      <th>user_id</th>\n",
       "      <th>user_name</th>\n",
       "      <th>user_screen_name</th>\n",
       "      <th>user_description</th>\n",
       "      <th>...</th>\n",
       "      <th>user_location</th>\n",
       "      <th>lat</th>\n",
       "      <th>long</th>\n",
       "      <th>city</th>\n",
       "      <th>country</th>\n",
       "      <th>continent</th>\n",
       "      <th>state</th>\n",
       "      <th>state_code</th>\n",
       "      <th>collected_at</th>\n",
       "      <th>Candidate</th>\n",
       "    </tr>\n",
       "  </thead>\n",
       "  <tbody>\n",
       "    <tr>\n",
       "      <th>0</th>\n",
       "      <td>2020-10-15 00:00:01</td>\n",
       "      <td>1.316529e+18</td>\n",
       "      <td>#Elecciones2020 | En #Florida: #JoeBiden dice ...</td>\n",
       "      <td>0.0</td>\n",
       "      <td>0.0</td>\n",
       "      <td>TweetDeck</td>\n",
       "      <td>3.606665e+08</td>\n",
       "      <td>El Sol Latino News</td>\n",
       "      <td>elsollatinonews</td>\n",
       "      <td>🌐 Noticias de interés para latinos de la costa...</td>\n",
       "      <td>...</td>\n",
       "      <td>Philadelphia, PA / Miami, FL</td>\n",
       "      <td>25.774270</td>\n",
       "      <td>-80.193660</td>\n",
       "      <td>NaN</td>\n",
       "      <td>United States of America</td>\n",
       "      <td>North America</td>\n",
       "      <td>Florida</td>\n",
       "      <td>FL</td>\n",
       "      <td>2020-10-21 00:00:00</td>\n",
       "      <td>trump</td>\n",
       "    </tr>\n",
       "    <tr>\n",
       "      <th>1</th>\n",
       "      <td>2020-10-15 00:00:01</td>\n",
       "      <td>1.316529e+18</td>\n",
       "      <td>Usa 2020, Trump contro Facebook e Twitter: cop...</td>\n",
       "      <td>26.0</td>\n",
       "      <td>9.0</td>\n",
       "      <td>Social Mediaset</td>\n",
       "      <td>3.316176e+08</td>\n",
       "      <td>Tgcom24</td>\n",
       "      <td>MediasetTgcom24</td>\n",
       "      <td>Profilo ufficiale di Tgcom24: tutte le notizie...</td>\n",
       "      <td>...</td>\n",
       "      <td>NaN</td>\n",
       "      <td>NaN</td>\n",
       "      <td>NaN</td>\n",
       "      <td>NaN</td>\n",
       "      <td>NaN</td>\n",
       "      <td>NaN</td>\n",
       "      <td>NaN</td>\n",
       "      <td>NaN</td>\n",
       "      <td>2020-10-21 00:00:00.373216530</td>\n",
       "      <td>trump</td>\n",
       "    </tr>\n",
       "    <tr>\n",
       "      <th>2</th>\n",
       "      <td>2020-10-15 00:00:02</td>\n",
       "      <td>1.316529e+18</td>\n",
       "      <td>#Trump: As a student I used to hear for years,...</td>\n",
       "      <td>2.0</td>\n",
       "      <td>1.0</td>\n",
       "      <td>Twitter Web App</td>\n",
       "      <td>8.436472e+06</td>\n",
       "      <td>snarke</td>\n",
       "      <td>snarke</td>\n",
       "      <td>Will mock for food! Freelance writer, blogger,...</td>\n",
       "      <td>...</td>\n",
       "      <td>Portland</td>\n",
       "      <td>45.520247</td>\n",
       "      <td>-122.674195</td>\n",
       "      <td>Portland</td>\n",
       "      <td>United States of America</td>\n",
       "      <td>North America</td>\n",
       "      <td>Oregon</td>\n",
       "      <td>OR</td>\n",
       "      <td>2020-10-21 00:00:00.746433060</td>\n",
       "      <td>trump</td>\n",
       "    </tr>\n",
       "    <tr>\n",
       "      <th>3</th>\n",
       "      <td>2020-10-15 00:00:02</td>\n",
       "      <td>1.316529e+18</td>\n",
       "      <td>2 hours since last tweet from #Trump! Maybe he...</td>\n",
       "      <td>0.0</td>\n",
       "      <td>0.0</td>\n",
       "      <td>Trumpytweeter</td>\n",
       "      <td>8.283556e+17</td>\n",
       "      <td>Trumpytweeter</td>\n",
       "      <td>trumpytweeter</td>\n",
       "      <td>If he doesn't tweet for some time, should we b...</td>\n",
       "      <td>...</td>\n",
       "      <td>NaN</td>\n",
       "      <td>NaN</td>\n",
       "      <td>NaN</td>\n",
       "      <td>NaN</td>\n",
       "      <td>NaN</td>\n",
       "      <td>NaN</td>\n",
       "      <td>NaN</td>\n",
       "      <td>NaN</td>\n",
       "      <td>2020-10-21 00:00:01.119649591</td>\n",
       "      <td>trump</td>\n",
       "    </tr>\n",
       "    <tr>\n",
       "      <th>4</th>\n",
       "      <td>2020-10-15 00:00:08</td>\n",
       "      <td>1.316529e+18</td>\n",
       "      <td>You get a tie! And you get a tie! #Trump ‘s ra...</td>\n",
       "      <td>4.0</td>\n",
       "      <td>3.0</td>\n",
       "      <td>Twitter for iPhone</td>\n",
       "      <td>4.741380e+07</td>\n",
       "      <td>Rana Abtar - رنا أبتر</td>\n",
       "      <td>Ranaabtar</td>\n",
       "      <td>Washington Correspondent, Lebanese-American ,c...</td>\n",
       "      <td>...</td>\n",
       "      <td>Washington DC</td>\n",
       "      <td>38.894992</td>\n",
       "      <td>-77.036558</td>\n",
       "      <td>Washington</td>\n",
       "      <td>United States of America</td>\n",
       "      <td>North America</td>\n",
       "      <td>District of Columbia</td>\n",
       "      <td>DC</td>\n",
       "      <td>2020-10-21 00:00:01.492866121</td>\n",
       "      <td>trump</td>\n",
       "    </tr>\n",
       "  </tbody>\n",
       "</table>\n",
       "<p>5 rows × 22 columns</p>\n",
       "</div>"
      ],
      "text/plain": [
       "            created_at      tweet_id  \\\n",
       "0  2020-10-15 00:00:01  1.316529e+18   \n",
       "1  2020-10-15 00:00:01  1.316529e+18   \n",
       "2  2020-10-15 00:00:02  1.316529e+18   \n",
       "3  2020-10-15 00:00:02  1.316529e+18   \n",
       "4  2020-10-15 00:00:08  1.316529e+18   \n",
       "\n",
       "                                               tweet  likes  retweet_count  \\\n",
       "0  #Elecciones2020 | En #Florida: #JoeBiden dice ...    0.0            0.0   \n",
       "1  Usa 2020, Trump contro Facebook e Twitter: cop...   26.0            9.0   \n",
       "2  #Trump: As a student I used to hear for years,...    2.0            1.0   \n",
       "3  2 hours since last tweet from #Trump! Maybe he...    0.0            0.0   \n",
       "4  You get a tie! And you get a tie! #Trump ‘s ra...    4.0            3.0   \n",
       "\n",
       "               source       user_id              user_name user_screen_name  \\\n",
       "0           TweetDeck  3.606665e+08     El Sol Latino News  elsollatinonews   \n",
       "1    Social Mediaset   3.316176e+08                Tgcom24  MediasetTgcom24   \n",
       "2     Twitter Web App  8.436472e+06                 snarke           snarke   \n",
       "3       Trumpytweeter  8.283556e+17          Trumpytweeter    trumpytweeter   \n",
       "4  Twitter for iPhone  4.741380e+07  Rana Abtar - رنا أبتر        Ranaabtar   \n",
       "\n",
       "                                    user_description  ...  \\\n",
       "0  🌐 Noticias de interés para latinos de la costa...  ...   \n",
       "1  Profilo ufficiale di Tgcom24: tutte le notizie...  ...   \n",
       "2  Will mock for food! Freelance writer, blogger,...  ...   \n",
       "3  If he doesn't tweet for some time, should we b...  ...   \n",
       "4  Washington Correspondent, Lebanese-American ,c...  ...   \n",
       "\n",
       "                  user_location        lat        long        city  \\\n",
       "0  Philadelphia, PA / Miami, FL  25.774270  -80.193660         NaN   \n",
       "1                           NaN        NaN         NaN         NaN   \n",
       "2                      Portland  45.520247 -122.674195    Portland   \n",
       "3                           NaN        NaN         NaN         NaN   \n",
       "4                 Washington DC  38.894992  -77.036558  Washington   \n",
       "\n",
       "                    country      continent                 state state_code  \\\n",
       "0  United States of America  North America               Florida         FL   \n",
       "1                       NaN            NaN                   NaN        NaN   \n",
       "2  United States of America  North America                Oregon         OR   \n",
       "3                       NaN            NaN                   NaN        NaN   \n",
       "4  United States of America  North America  District of Columbia         DC   \n",
       "\n",
       "                    collected_at Candidate  \n",
       "0            2020-10-21 00:00:00     trump  \n",
       "1  2020-10-21 00:00:00.373216530     trump  \n",
       "2  2020-10-21 00:00:00.746433060     trump  \n",
       "3  2020-10-21 00:00:01.119649591     trump  \n",
       "4  2020-10-21 00:00:01.492866121     trump  \n",
       "\n",
       "[5 rows x 22 columns]"
      ]
     },
     "execution_count": 7,
     "metadata": {},
     "output_type": "execute_result"
    }
   ],
   "source": [
    "#mix the data together\n",
    "Data_Mixed = pd.concat([trump_df,biden_df])\n",
    "Data_Mixed.sort_values(by='created_at')\n",
    "Data_Mixed.head()"
   ]
  },
  {
   "cell_type": "code",
   "execution_count": 8,
   "metadata": {},
   "outputs": [
    {
     "data": {
      "image/png": "[encoded data removed]",
      "text/plain": [
       "<Figure size 432x288 with 1 Axes>"
      ]
     },
     "metadata": {
      "needs_background": "light"
     },
     "output_type": "display_data"
    }
   ],
   "source": [
    "#note that the number of likes for pro-biden tweets is higher than the ones from trump supporters, although\n",
    "#the total number of tweets pro-trump is higher\n",
    "Data_Mixed.groupby('Candidate')['likes'].sum().plot.bar()\n",
    "plt.ylabel('Number of Likes')\n",
    "plt.title('Trump vs Biden')\n",
    "plt.show()"
   ]
  },
  {
   "cell_type": "code",
   "execution_count": 9,
   "metadata": {},
   "outputs": [
    {
     "name": "stdout",
     "output_type": "stream",
     "text": [
      "Average number of likes of pro-trump tweets:7.4770109555997974\n",
      "Average number of likes of pro-biden tweets:10.161163928813236\n"
     ]
    }
   ],
   "source": [
    "#average number of likes for a pro-biden tweet vs a pro-trump tweet\n",
    "\n",
    "print(f'Average number of likes of pro-trump tweets:'+ \n",
    "      str((Data_Mixed.loc[Data_Mixed['Candidate']=='trump']['likes'].sum())/float(trump_df.shape[0])))\n",
    "print(f'Average number of likes of pro-biden tweets:'+ \n",
    "      str((Data_Mixed.loc[Data_Mixed['Candidate']=='biden']['likes'].sum())/float(biden_df.shape[0])))"
   ]
  },
  {
   "cell_type": "code",
   "execution_count": 10,
   "metadata": {},
   "outputs": [
    {
     "name": "stdout",
     "output_type": "stream",
     "text": [
      "#Elecciones2020 | En #Florida: #JoeBiden dice que #DonaldTrump solo se preocupa por él mismo. El demócrata fue anfitrión de encuentros de electores en #PembrokePines y #Miramar. Clic AQUÍ ⬇️⬇️⬇️\n",
      "⠀\n",
      "🌐https://t.co/qhIWpIUXsT\n",
      "_\n",
      "#ElSolLatino #yobrilloconelsol https://t.co/6FlCBWf1Mi\n",
      "178899\n"
     ]
    }
   ],
   "source": [
    "trump_tweets=trump_df.loc[trump_df['country']=='United States of America']['tweet'].tolist()\n",
    "#notice that this will be considered a pro-trump tweet, since it has the #Trump.. that's normal data noise\n",
    "print(trump_tweets[0])\n",
    "print(len(trump_tweets))\n",
    "#in case our classifier gets a high misclassification rate, then we might infer that tweets that talk about trump\n",
    "#or biden use more or less the same words\n",
    "#in that case, we may try to do a sentiment analysis for the two datasets separately"
   ]
  },
  {
   "cell_type": "code",
   "execution_count": 11,
   "metadata": {},
   "outputs": [
    {
     "name": "stdout",
     "output_type": "stream",
     "text": [
      "#Elecciones2020 | En #Florida: #JoeBiden dice que #DonaldTrump solo se preocupa por él mismo. El demócrata fue anfitrión de encuentros de electores en #PembrokePines y #Miramar. Clic AQUÍ ⬇️⬇️⬇️\n",
      "⠀\n",
      "🌐https://t.co/qhIWpIUXsT\n",
      "_\n",
      "#ElSolLatino #yobrilloconelsol https://t.co/6FlCBWf1Mi\n",
      "153596\n"
     ]
    }
   ],
   "source": [
    "biden_tweets=biden_df.loc[biden_df['country']=='United States of America']['tweet'].tolist()\n",
    "print(biden_tweets[0])\n",
    "print(len(biden_tweets))"
   ]
  },
  {
   "cell_type": "markdown",
   "metadata": {},
   "source": [
    "Notice that the above tweets are the same, for both candidates! We will remove them, in order to hopefully remove some noise"
   ]
  },
  {
   "cell_type": "code",
   "execution_count": 12,
   "metadata": {},
   "outputs": [],
   "source": [
    "file=False\n",
    "try:\n",
    "    with open('./trump_tweets') as f:\n",
    "        file=True\n",
    "except IOError:\n",
    "    print(\"File not accessible\")\n",
    "\n",
    "if file==False:\n",
    "    random.shuffle(biden_tweets)\n",
    "    random.shuffle(trump_tweets)\n",
    "    print(len(trump_tweets))\n",
    "    i=0\n",
    "    for tweet in trump_tweets:\n",
    "        i=i+1\n",
    "        if('joe' or 'Joe' or 'JOE' or 'biden' or 'Biden' or 'BIDEN') in tweet:\n",
    "            trump_tweets.remove(tweet)\n",
    "    print(len(trump_tweets))\n",
    "    print('end trump')\n",
    "    i=0\n",
    "    print(len(biden_tweets))\n",
    "    for tweet in biden_tweets:\n",
    "        i=i+1\n",
    "        if('donald' or 'Donald' or 'DONALD' or 'trump' or 'Trump' or 'TRUMP') in tweet:\n",
    "            biden_tweets.remove(tweet)\n",
    "    print(len(biden_tweets))\n",
    "    with open(\"trump_tweets\", \"wb\") as fp:   #Pickling\n",
    "        pickle.dump(trump_tweets, fp)\n",
    "    with open(\"biden_tweets\", \"wb\") as fp:   #Pickling\n",
    "        pickle.dump(biden_tweets, fp)\n",
    "\n",
    "        \n",
    "if file==True:\n",
    "    with open(\"trump_tweets\", \"rb\") as fp:   # Unpickling\n",
    "        trump_tweets = pickle.load(fp)\n",
    "    with open(\"biden_tweets\", \"rb\") as fp:   # Unpickling\n",
    "        biden_tweets = pickle.load(fp)"
   ]
  },
  {
   "cell_type": "code",
   "execution_count": 13,
   "metadata": {},
   "outputs": [
    {
     "name": "stdout",
     "output_type": "stream",
     "text": [
      "146132\n",
      "16237\n",
      "124530\n",
      "13837\n"
     ]
    }
   ],
   "source": [
    "#we use 10% of the tweets as test set\n",
    "trump_train=trump_tweets[:-round(len(trump_tweets)/10)]\n",
    "trump_test=trump_tweets[-round(len(trump_tweets)/10):]\n",
    "biden_train=biden_tweets[:-round(len(biden_tweets)/10)]\n",
    "biden_test=biden_tweets[-round(len(biden_tweets)/10):]\n",
    "print(len(trump_train))\n",
    "print(len(trump_test))\n",
    "print(len(biden_train))\n",
    "print(len(biden_test))"
   ]
  },
  {
   "cell_type": "markdown",
   "metadata": {},
   "source": [
    "We now define a custom function for tweet preprocessing; not only we need to remove the usual stuff (hyperlinks, hashtags, ecc) but also the names of the candidates\n",
    "\n",
    "You can find process_tweet and other helpful functions in the elections_utils file"
   ]
  },
  {
   "cell_type": "code",
   "execution_count": 14,
   "metadata": {},
   "outputs": [
    {
     "name": "stdout",
     "output_type": "stream",
     "text": [
      "['former', 'entrepreneur', 'hous', 'market']\n",
      "['politician', 'sinc', 'twenti']\n"
     ]
    }
   ],
   "source": [
    "print(elections_utils.process_tweet('@realDonaldTrump is a former entrepreneur in housing market'))\n",
    "print(elections_utils.process_tweet('Biden has been a politician since he was twenty'))"
   ]
  },
  {
   "cell_type": "markdown",
   "metadata": {},
   "source": [
    "### Part 1: Trump-Biden Classification with Naive Bayes"
   ]
  },
  {
   "cell_type": "code",
   "execution_count": 15,
   "metadata": {},
   "outputs": [],
   "source": [
    "#from now on, we will use trump=1, biden=0\n",
    "x_train=trump_train+biden_train\n",
    "x_test=trump_test+biden_test\n",
    "y_train=np.append(np.ones(len(trump_train)), np.zeros(len(biden_train)))\n",
    "y_test=np.append(np.ones(len(trump_test)), np.zeros(len(biden_test)))  "
   ]
  },
  {
   "cell_type": "code",
   "execution_count": 16,
   "metadata": {},
   "outputs": [],
   "source": [
    "#the next function takes a dictionary and two lists (x and y) in input and outputs the dictionary\n",
    "#to the dictionary, new entries are added\n",
    "#the final dictionary has entries (word, 0/1)-->frequencies\n",
    "#for instance, if \"home\" occurs twice in Biden tweets, the dictionary will map (home,0) into 2\n",
    "try:\n",
    "    with open(\"./elections_dictionary\", \"rb\") as fp:   # Unpickling\n",
    "        freqs_dict = pickle.load(fp)\n",
    "except IOError:\n",
    "    freqs_dict = elections_utils.count_tweets({}, x_train, y_train)\n",
    "    with open(\"elections_dictionary\", \"wb\") as fp:   #Pickling\n",
    "        pickle.dump(freqs_dict, fp)\n"
   ]
  },
  {
   "cell_type": "markdown",
   "metadata": {},
   "source": [
    "Of course NB is not really \"trained\", but the next function is called train_naive_bayse for semplicity.\n",
    "The function takes in input the dictionary with the frequencies and the two lists (of tweets and (0,1)).\n",
    "It returns the log prior (which is a number, since it is common to all words) and the log likelihood, which is a dictionary that maps every word into the corresponding log lokelihood\n"
   ]
  },
  {
   "cell_type": "code",
   "execution_count": 17,
   "metadata": {},
   "outputs": [
    {
     "name": "stdout",
     "output_type": "stream",
     "text": [
      "0.1599636721034231\n",
      "111211\n"
     ]
    }
   ],
   "source": [
    "#since evaluating the loglikelihood is quite long, and the seed of the shuffling process is fixed,\n",
    "#it is possible to directly load the files\n",
    "\n",
    "try:\n",
    "    with open(\"./elections_loglikelihood\", \"rb\") as fp:   # Unpickling\n",
    "        loglikelihood = pickle.load(fp)\n",
    "    with open(\"./elections_logprior\", \"rb\") as fp:   # Unpickling\n",
    "        logprior = pickle.load(fp)\n",
    "except IOError:\n",
    "    logprior, loglikelihood = elections_utils.train_naive_bayes(freqs_dict, x_train, y_train)\n",
    "    with open(\"elections_logprior\", \"wb\") as fp:   #Pickling\n",
    "        pickle.dump(logprior, fp)\n",
    "    with open(\"elections_loglikelihood\", \"wb\") as fp:   #Pickling\n",
    "        pickle.dump(loglikelihood, fp)\n",
    "#correctly, the log prior is greater than zero\n",
    "print(logprior)\n",
    "print(len(loglikelihood))"
   ]
  },
  {
   "cell_type": "markdown",
   "metadata": {},
   "source": [
    "You can play with the next cell and try to see if some words that you think characterize a candidate have the very high (or very low, if negative) loglikelihood"
   ]
  },
  {
   "cell_type": "code",
   "execution_count": 18,
   "metadata": {},
   "outputs": [
    {
     "name": "stdout",
     "output_type": "stream",
     "text": [
      "2.296585836331416\n",
      "-5.234388760385825\n"
     ]
    }
   ],
   "source": [
    "print(elections_utils.naive_bayes_predict('MAGA God golf',logprior,loglikelihood))\n",
    "print(elections_utils.naive_bayes_predict('hunter heal Delaware',logprior, loglikelihood))"
   ]
  },
  {
   "cell_type": "code",
   "execution_count": 19,
   "metadata": {},
   "outputs": [
    {
     "name": "stdout",
     "output_type": "stream",
     "text": [
      "Naive Bayes accuracy = 0.7113\n"
     ]
    }
   ],
   "source": [
    "print(\"Naive Bayes accuracy = %0.4f\" %\n",
    "      (elections_utils.test_naive_bayes(x_test, y_test, logprior, loglikelihood)))"
   ]
  },
  {
   "cell_type": "code",
   "execution_count": 20,
   "metadata": {},
   "outputs": [
    {
     "name": "stdout",
     "output_type": "stream",
     "text": [
      "[('vetsforsci', 6.494774067358912), ('fucksshit', 6.447026304485696), ('⚜', 5.838958133164327), ('operationmaga', 5.805301110160851), ('fs', 5.804077868418107), ('negligenthomicid', 5.8028531285222105), ('makeamericaunitedagain', 5.398612760309942), ('murdererinchief', 5.39493403145248), ('politicalview', 4.990082985383875), ('but-add', 4.973369504410134), ('racehorsetheori', 4.671859430351061), ('agonist', 4.627867861069527), ('arizonacircl', 4.426314942347685), ('kanganaranaut', 4.416558767402321), ('kiddwaya', 4.416558767402321), ('azkar', 4.416558767402321), ('eath', 4.355934145585886), ('eugen', 4.3133745311670895), ('unscientif', 4.285824579398859), ('=D', 4.179843138542567)]\n",
      "[('mikeespym', -4.413106665272917), ('wedidntstartthefir', -4.44252055047921), ('re-shar', -4.44252055047921), ('billyl', -4.4569092879313095), ('demcast', -4.46503941401456), (\"crazyuncledonnie'\", -4.4710939229232665), ('demcastpa', -4.4710939229232665), ('follo', -4.602863200554389), ('4follo', -4.602863200554389), ('ditchmoscowmitch', -4.611059967758568), ('middle-eastern', -4.772762237349787), ('crony-stack', -4.813584231870043), ('believeinamerica', -5.044695952833429), ('workload', -5.150056468491255), ('teamjustic', -5.183767525833567), ('wtp', -5.1949517883991465), ('stopselectiontheft', -5.455438118042437), ('issick', -5.471104234786837), ('wtpblue', -6.6450984596579294), ('wtpsenat', -7.656165325929859)]\n"
     ]
    }
   ],
   "source": [
    "from collections import Counter\n",
    "print(Counter(loglikelihood).most_common()[:20])\n",
    "print(Counter(loglikelihood).most_common()[-20:])\n"
   ]
  },
  {
   "cell_type": "code",
   "execution_count": null,
   "metadata": {},
   "outputs": [],
   "source": []
  },
  {
   "cell_type": "markdown",
   "metadata": {},
   "source": [
    "Unfortunately the accuracy is not particularly high. In part 3 we will try to divide the datasets into two sub-datasets each, taking into account the sentiment of the tweet. The reason for this is that tweets about both politicians may talk about the same topics, but with opposite sentiments"
   ]
  },
  {
   "cell_type": "markdown",
   "metadata": {},
   "source": [
    "### Part 2: Sentiment analysis of Trump-Biden datasets"
   ]
  },
  {
   "cell_type": "markdown",
   "metadata": {},
   "source": [
    "In this second part, we will take a pre-trained Naive Bayes model for sentiment analysis and evaluate the \"average positiveness\" of the two datasets of tweets."
   ]
  },
  {
   "cell_type": "code",
   "execution_count": 21,
   "metadata": {},
   "outputs": [
    {
     "name": "stderr",
     "output_type": "stream",
     "text": [
      "[nltk_data] Downloading package twitter_samples to ./...\n",
      "[nltk_data]   Package twitter_samples is already up-to-date!\n"
     ]
    },
    {
     "name": "stdout",
     "output_type": "stream",
     "text": [
      "Naive Bayes accuracy = 0.9968\n"
     ]
    }
   ],
   "source": [
    "#names are swapped (train_x instead of x_train) in order to not override the previous variables\n",
    "nltk.download('twitter_samples',download_dir=\"./\")\n",
    "\n",
    "all_positive_tweets = []\n",
    "all_negative_tweets = []\n",
    "for line in open('./corpora/twitter_samples/positive_tweets.json', 'r'):\n",
    "    all_positive_tweets.append(json.loads(line)['text'])\n",
    "for line in open('./corpora/twitter_samples/negative_tweets.json', 'r'):\n",
    "    all_negative_tweets.append(json.loads(line)['text'])\n",
    "\n",
    "# split the data into two pieces, one for training and one for testing (validation set)\n",
    "test_pos = all_positive_tweets[1000:]\n",
    "train_pos = all_positive_tweets[:7000]\n",
    "test_neg = all_negative_tweets[1000:]\n",
    "train_neg = all_negative_tweets[:7000]\n",
    "\n",
    "train_x = train_pos + train_neg\n",
    "test_x = test_pos + test_neg\n",
    "\n",
    "# avoid assumptions about the length of all_positive_tweets\n",
    "train_y = np.append(np.ones(len(train_pos)), np.zeros(len(train_neg)))\n",
    "test_y = np.append(np.ones(len(test_pos)), np.zeros(len(test_neg)))\n",
    "\n",
    "try:\n",
    "    with open(\"./sample_loglikelihood\", \"rb\") as fp:   # Unpickling\n",
    "        sample_loglikelihood = pickle.load(fp)\n",
    "    with open(\"./sample_logprior\", \"rb\") as fp:   # Unpickling\n",
    "        sample_logprior = pickle.load(fp)\n",
    "#    with open(\"./sample_freqs\", \"rb\") as fp:\n",
    "#        sample_freqs = pickle.load(fp)\n",
    "except IOError:       \n",
    "    #names are swapped (train_x instead of x_train) in order to not override the previous variables\n",
    "    print('evaluating freqs')\n",
    "    sample_freqs = elections_utils.count_tweets({}, train_x, train_y)\n",
    "    print('evaluating prior and likelihood')\n",
    "    sample_logprior, sample_loglikelihood = elections_utils.train_naive_bayes(sample_freqs, train_x, train_y)\n",
    "    with open(\"sample_logprior\", \"wb\") as fp:   #Pickling\n",
    "        pickle.dump(sample_logprior, fp)\n",
    "    with open(\"sample_loglikelihood\", \"wb\") as fp:   #Pickling\n",
    "        pickle.dump(sample_loglikelihood, fp)\n",
    "print(\"Naive Bayes accuracy = %0.4f\" %(elections_utils.test_naive_bayes(test_x, test_y, sample_logprior, sample_loglikelihood)))\n",
    "#the accuracy is >99%"
   ]
  },
  {
   "cell_type": "code",
   "execution_count": 22,
   "metadata": {},
   "outputs": [
    {
     "name": "stdout",
     "output_type": "stream",
     "text": [
      "Average positiveness (aka log posterior) of tweets about Trump: -0.3546\n",
      "Average positiveness (aka log posterior) of tweets about Biden: -0.1246\n"
     ]
    }
   ],
   "source": [
    "log_posterior_trump=elections_utils.average_log_posterior(trump_tweets,sample_logprior, sample_loglikelihood)\n",
    "log_posterior_biden=elections_utils.average_log_posterior(biden_tweets,sample_logprior, sample_loglikelihood)\n",
    "print(\"Average positiveness (aka log posterior) of tweets about Trump: %0.4f\"\n",
    "      %(log_posterior_trump))\n",
    "print(\"Average positiveness (aka log posterior) of tweets about Biden: %0.4f\"\n",
    "      %(log_posterior_biden))\n",
    "#notice that the average of the log posterior is much different from the average of the posterior, and in general\n",
    "#there is no link between the two, except that since the logarithmic and exponential functions are both monothonous,\n",
    "#a higher logposterior implies a higher posterior"
   ]
  },
  {
   "cell_type": "markdown",
   "metadata": {},
   "source": [
    "Working with the logs of posteriors makes quantifying how much more positive Biden tweets are quite difficult. If that was the goal of the project, using non-logarithmic posteriors would have been better"
   ]
  },
  {
   "cell_type": "markdown",
   "metadata": {},
   "source": [
    "### Part 3: Sentiment analysis to filter tweets, and then Trump-Biden classification"
   ]
  },
  {
   "cell_type": "code",
   "execution_count": 25,
   "metadata": {},
   "outputs": [],
   "source": [
    "pos_trump_tweets, neg_trump_tweets=elections_utils.divide_pos_neg(trump_tweets, [],[],sample_logprior, sample_loglikelihood)"
   ]
  },
  {
   "cell_type": "code",
   "execution_count": 26,
   "metadata": {},
   "outputs": [],
   "source": [
    "pos_biden_tweets, neg_biden_tweets=elections_utils.divide_pos_neg(biden_tweets, [],[],sample_logprior, sample_loglikelihood)"
   ]
  },
  {
   "cell_type": "code",
   "execution_count": 27,
   "metadata": {},
   "outputs": [
    {
     "name": "stdout",
     "output_type": "stream",
     "text": [
      "162369\n",
      "67942\n",
      "86941\n",
      "138367\n",
      "61565\n",
      "69768\n"
     ]
    }
   ],
   "source": [
    "print(len(trump_tweets))\n",
    "print(len(pos_trump_tweets))\n",
    "print(len(neg_trump_tweets))\n",
    "print(len(biden_tweets))\n",
    "print(len(pos_biden_tweets))\n",
    "print(len(neg_biden_tweets))\n",
    "#should be not surprised that the sum of pos+neg does not give the total, because some tweets contain only words \n",
    "#that are not in the sample dataset"
   ]
  },
  {
   "cell_type": "markdown",
   "metadata": {},
   "source": [
    "#### Part 3.A: Analysis of positive tweets"
   ]
  },
  {
   "cell_type": "code",
   "execution_count": 28,
   "metadata": {},
   "outputs": [],
   "source": [
    "pos_trump_train=pos_trump_tweets[:-round(len(pos_trump_tweets)/10)]\n",
    "pos_trump_test=pos_trump_tweets[-round(len(pos_trump_tweets)/10):]\n",
    "pos_biden_train=pos_biden_tweets[:-round(len(pos_biden_tweets)/10)]\n",
    "pos_biden_test=pos_biden_tweets[-round(len(pos_biden_tweets)/10):]"
   ]
  },
  {
   "cell_type": "code",
   "execution_count": 29,
   "metadata": {},
   "outputs": [],
   "source": [
    "pos_x_train=pos_trump_train+pos_biden_train\n",
    "pos_x_test=pos_trump_test+pos_biden_test\n",
    "pos_y_train=np.append(np.ones(len(pos_trump_train)), np.zeros(len(pos_biden_train)))\n",
    "pos_y_test=np.append(np.ones(len(pos_trump_test)), np.zeros(len(pos_biden_test)))  "
   ]
  },
  {
   "cell_type": "code",
   "execution_count": 30,
   "metadata": {},
   "outputs": [],
   "source": [
    "try:\n",
    "    with open(\"./elections_pos_dictionary\", \"rb\") as fp:   # Unpickling\n",
    "        pos_freqs_dict = pickle.load(fp)\n",
    "except IOError:\n",
    "    pos_freqs_dict = elections_utils.count_tweets({}, pos_x_train, pos_y_train)\n",
    "    with open(\"elections_pos_dictionary\", \"wb\") as fp:   #Pickling\n",
    "        pickle.dump(pos_freqs_dict, fp)"
   ]
  },
  {
   "cell_type": "code",
   "execution_count": 31,
   "metadata": {},
   "outputs": [],
   "source": [
    "try:\n",
    "    with open(\"./elections_pos_loglikelihood\", \"rb\") as fp:   # Unpickling\n",
    "        pos_loglikelihood = pickle.load(fp)\n",
    "    with open(\"./elections_pos_logprior\", \"rb\") as fp:   # Unpickling\n",
    "        pos_logprior = pickle.load(fp)\n",
    "except IOError:\n",
    "    pos_logprior, pos_loglikelihood = elections_utils.train_naive_bayes(pos_freqs_dict, pos_x_train, pos_y_train)\n",
    "    with open(\"elections_pos_logprior\", \"wb\") as fp:   #Pickling\n",
    "        pickle.dump(pos_logprior, fp)\n",
    "    with open(\"elections_pos_loglikelihood\", \"wb\") as fp:   #Pickling\n",
    "        pickle.dump(pos_loglikelihood, fp)\n"
   ]
  },
  {
   "cell_type": "code",
   "execution_count": 32,
   "metadata": {},
   "outputs": [
    {
     "name": "stdout",
     "output_type": "stream",
     "text": [
      "Naive Bayes accuracy = 0.7120\n"
     ]
    }
   ],
   "source": [
    "print(\"Naive Bayes accuracy = %0.4f\" %\n",
    "      (elections_utils.test_naive_bayes(pos_x_test, pos_y_test, pos_logprior, pos_loglikelihood)))"
   ]
  },
  {
   "cell_type": "code",
   "execution_count": 33,
   "metadata": {},
   "outputs": [
    {
     "name": "stdout",
     "output_type": "stream",
     "text": [
      "[('agonist', 4.685828829476688), ('rememberinnovemb', 4.5625306131321945), ('funfact', 4.362864942880268), ('politicalview', 4.226962944641409), ('refusestolead', 4.226962944641409), ('professionaladvic', 4.226962944641409), ('democratichoax', 4.226962944641409), ('happytalk', 4.226962944641409), ('didnthavetobethisway', 4.226962944641409), ('eath', 4.134181211190443)]\n",
      "[('follo', -4.459973021361923), ('4follo', -4.459973021361923), ('🛍', -4.631121277557752), ('middle-eastern', -4.696361799426153), ('stopselectiontheft', -4.767457721109883), ('demcast', -4.887417036188863), ('teamjustic', -5.579113890171161), ('wtp', -5.772501232242204), ('wtpblue', -6.4278620771360115), ('wtpsenat', -7.467633865781187)]\n"
     ]
    }
   ],
   "source": [
    "print(Counter(pos_loglikelihood).most_common()[:10])\n",
    "print(Counter(pos_loglikelihood).most_common()[-10:])"
   ]
  },
  {
   "cell_type": "markdown",
   "metadata": {},
   "source": [
    "#### Part 3.B: Analysis of negative tweets"
   ]
  },
  {
   "cell_type": "code",
   "execution_count": 34,
   "metadata": {},
   "outputs": [],
   "source": [
    "neg_trump_train=neg_trump_tweets[:-round(len(neg_trump_tweets)/10)]\n",
    "neg_trump_test=neg_trump_tweets[-round(len(neg_trump_tweets)/10):]\n",
    "neg_biden_train=neg_biden_tweets[:-round(len(neg_biden_tweets)/10)]\n",
    "neg_biden_test=neg_biden_tweets[-round(len(neg_biden_tweets)/10):]"
   ]
  },
  {
   "cell_type": "code",
   "execution_count": 35,
   "metadata": {},
   "outputs": [],
   "source": [
    "neg_x_train=neg_trump_train+neg_biden_train\n",
    "neg_x_test=neg_trump_test+neg_biden_test\n",
    "neg_y_train=np.append(np.ones(len(neg_trump_train)), np.zeros(len(neg_biden_train)))\n",
    "neg_y_test=np.append(np.ones(len(neg_trump_test)), np.zeros(len(neg_biden_test))) "
   ]
  },
  {
   "cell_type": "code",
   "execution_count": 36,
   "metadata": {},
   "outputs": [],
   "source": [
    "try:\n",
    "    with open(\"./elections_neg_dictionary\", \"rb\") as fp:   # Unpickling\n",
    "        neg_freqs_dict = pickle.load(fp)\n",
    "except IOError:\n",
    "    neg_freqs_dict = elections_utils.count_tweets({}, neg_x_train, neg_y_train)\n",
    "    with open(\"elections_neg_dictionary\", \"wb\") as fp:   #Pickling\n",
    "        pickle.dump(neg_freqs_dict, fp)"
   ]
  },
  {
   "cell_type": "code",
   "execution_count": 37,
   "metadata": {},
   "outputs": [],
   "source": [
    "try:\n",
    "    with open(\"./elections_neg_loglikelihood\", \"rb\") as fp:   # Unpickling\n",
    "        neg_loglikelihood = pickle.load(fp)\n",
    "    with open(\"./elections_neg_logprior\", \"rb\") as fp:   # Unpickling\n",
    "        neg_logprior = pickle.load(fp)\n",
    "except IOError:\n",
    "    neg_logprior, neg_loglikelihood = elections_utils.train_naive_bayes(neg_freqs_dict, neg_x_train, neg_y_train)\n",
    "    with open(\"elections_neg_logprior\", \"wb\") as fp:   #Pickling\n",
    "        pickle.dump(neg_logprior, fp)\n",
    "    with open(\"elections_neg_loglikelihood\", \"wb\") as fp:   #Pickling\n",
    "        pickle.dump(neg_loglikelihood, fp)"
   ]
  },
  {
   "cell_type": "code",
   "execution_count": 38,
   "metadata": {},
   "outputs": [
    {
     "name": "stdout",
     "output_type": "stream",
     "text": [
      "Naive Bayes accuracy = 0.7038\n"
     ]
    }
   ],
   "source": [
    "print(\"Naive Bayes accuracy = %0.4f\" %\n",
    "      (elections_utils.test_naive_bayes(neg_x_test, neg_y_test, neg_logprior, neg_loglikelihood)))"
   ]
  },
  {
   "cell_type": "code",
   "execution_count": 39,
   "metadata": {},
   "outputs": [
    {
     "name": "stdout",
     "output_type": "stream",
     "text": [
      "[('vetsforsci', 6.430334047507442), ('fucksshit', 6.398625620622301), ('⚜', 5.784727811716496), ('negligenthomicid', 5.739680633825898), ('fs', 5.738434527745651), ('makeamericaunitedagain', 5.737186866947496), ('operationmaga', 5.737186866947496), ('murdererinchief', 5.729668034533469), ('✳', 5.216743774110557), ('prone', 4.959408858048068)]\n",
      "[('🔁', -4.573015013097228), ('ditchmoscowmitch', -4.658172821437535), ('stopselectiontheft', -4.7441632692930575), ('crony-stack', -4.860697085549009), ('cumul', -5.075808465165955), ('believeinamerica', -5.07983261546568), ('workload', -5.182780584718122), ('issick', -5.298952016480165), ('wtpsenat', -5.459533586637713), ('wtpblue', -5.827680931738683)]\n"
     ]
    }
   ],
   "source": [
    "print(Counter(neg_loglikelihood).most_common()[:10])\n",
    "print(Counter(neg_loglikelihood).most_common()[-10:])"
   ]
  },
  {
   "cell_type": "markdown",
   "metadata": {},
   "source": [
    "In the end, the accuracy didn't improve much"
   ]
  },
  {
   "cell_type": "code",
   "execution_count": null,
   "metadata": {},
   "outputs": [],
   "source": []
  }
 ],
 "metadata": {
  "kernelspec": {
   "display_name": "Python 3",
   "language": "python",
   "name": "python3"
  },
  "language_info": {
   "codemirror_mode": {
    "name": "ipython",
    "version": 3
   },
   "file_extension": ".py",
   "mimetype": "text/x-python",
   "name": "python",
   "nbconvert_exporter": "python",
   "pygments_lexer": "ipython3",
   "version": "3.7.6"
  }
 },
 "nbformat": 4,
 "nbformat_minor": 4
}
